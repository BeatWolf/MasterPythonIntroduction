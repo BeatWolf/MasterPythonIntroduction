{
 "cells": [
  {
   "metadata": {},
   "cell_type": "markdown",
   "source": [
    "# Game exercice\n",
    "\n",
    "Create a small game in which the player can go through a small labyrinth to find the exit. For your first game, the path is linear and you can not come back. Here is an example interaction and output of your game:\n",
    "\n",
    "```\n",
    "You see a door in front of you, what do you do?\n",
    "Action: open\n",
    "You opened the door, you see a room a door to the left and one to the right\n",
    "Action: left\n",
    "You found the exit and won!\n",
    "```\n",
    "\n",
    "Implement a game that lets the player find the right path through the following set of rooms:\n",
    "\n",
    "![Game board](intro_exercice_game.png)\n",
    "\n",
    "The following python commands / concepts are required in this task:\n",
    "- You can use **print()** to display messages\n",
    "- **input()** to ask questions\n",
    "  - and save them in a variable with **=**\n",
    "- **if** / **elif** / **else** for choices\n",
    "  - Always use a condition with if, such as **variable == \"text\"** \n",
    "\n",
    "## Optional\n",
    "\n",
    "If you want to go further, implement the following features in your game:\n",
    "- Require the play to find an item (key?) or push a button to access the exit \n",
    "- Add the ability to go back to an already visited room\n",
    "- Any other feature you would like to explore\n"
   ],
   "id": "71496c9cbd0e351a"
  },
  {
   "metadata": {
    "ExecuteTime": {
     "end_time": "2024-06-28T12:38:30.033544Z",
     "start_time": "2024-06-28T12:38:30.020995Z"
    }
   },
   "cell_type": "code",
   "source": "# Your code goes here",
   "id": "2139ca4df20a398b",
   "outputs": [],
   "execution_count": 1
  }
 ],
 "metadata": {
  "kernelspec": {
   "display_name": "Python 3",
   "language": "python",
   "name": "python3"
  },
  "language_info": {
   "codemirror_mode": {
    "name": "ipython",
    "version": 2
   },
   "file_extension": ".py",
   "mimetype": "text/x-python",
   "name": "python",
   "nbconvert_exporter": "python",
   "pygments_lexer": "ipython2",
   "version": "2.7.6"
  }
 },
 "nbformat": 4,
 "nbformat_minor": 5
}
