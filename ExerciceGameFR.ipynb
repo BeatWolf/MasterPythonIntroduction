{
 "cells": [
  {
   "metadata": {},
   "cell_type": "markdown",
   "source": [
    "# Exercice de jeu\n",
    "\n",
    "Créez un petit jeu dans lequel le joueur peut traverser un petit labyrinthe pour trouver la sortie. Pour votre premier jeu, le chemin est linéaire et vous ne pouvez pas revenir en arrière. Voici un exemple d'interaction et de résultat de votre jeu :\n",
    "```\n",
    "Vous voyez une porte devant vous, que faites-vous ?\n",
    "Action : ouvrir\n",
    "Vous avez ouvert la porte, vous voyez une pièce avec une porte à gauche et une à droite\n",
    "Action : gauche\n",
    "Vous avez trouvé la sortie et gagné !\n",
    "```\n",
    "\n",
    "Implémentez un jeu qui permet au joueur de trouver le bon chemin à travers le jeu de pièces suivant :\n",
    "\n",
    "![Game board](intro_exercice_game_fr.png)\n",
    "\n",
    "Les commandes / concepts Python suivants sont requis dans cette tâche :\n",
    "\n",
    "- Vous pouvez utiliser **print()** pour afficher des messages\n",
    "- **input()** pour poser des questions\n",
    "  - et les enregistrer dans une variable avec **=**\n",
    "- **if / elif / else** pour les choix\n",
    "  - Utilisez toujours une condition avec if, comme **variable == \"texte\"**\n",
    "\n",
    "## Optional\n",
    "\n",
    "Si vous voulez aller plus loin, implémentez les fonctionnalités suivantes dans votre jeu :\n",
    "- Exigez que le joueur trouve un objet (clé ?) ou appuie sur un bouton pour accéder à la sortie\n",
    "- Ajoutez la possibilité de retourner dans une pièce déjà visitée\n",
    "- Toute autre fonctionnalité que vous souhaitez explorer\n"
   ],
   "id": "71496c9cbd0e351a"
  },
  {
   "metadata": {
    "ExecuteTime": {
     "end_time": "2024-06-28T12:38:30.033544Z",
     "start_time": "2024-06-28T12:38:30.020995Z"
    }
   },
   "cell_type": "code",
   "source": "# Your code goes here",
   "id": "2139ca4df20a398b",
   "outputs": [],
   "execution_count": 1
  }
 ],
 "metadata": {
  "kernelspec": {
   "display_name": "Python 3",
   "language": "python",
   "name": "python3"
  },
  "language_info": {
   "codemirror_mode": {
    "name": "ipython",
    "version": 2
   },
   "file_extension": ".py",
   "mimetype": "text/x-python",
   "name": "python",
   "nbconvert_exporter": "python",
   "pygments_lexer": "ipython2",
   "version": "2.7.6"
  }
 },
 "nbformat": 4,
 "nbformat_minor": 5
}
